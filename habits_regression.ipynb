{
 "cells": [
  {
   "cell_type": "code",
   "execution_count": 1,
   "metadata": {},
   "outputs": [],
   "source": [
    "from pathlib import Path\n",
    "\n",
    "import numpy as np\n",
    "import pandas as pd\n",
    "import matplotlib.pyplot as plt\n",
    "from sklearn.linear_model import LinearRegression\n",
    "from sklearn.model_selection import train_test_split\n",
    "\n",
    "import useful_functions.habits_func as hf"
   ]
  },
  {
   "attachments": {},
   "cell_type": "markdown",
   "metadata": {},
   "source": [
    "### Explanation goes here"
   ]
  },
  {
   "cell_type": "code",
   "execution_count": 2,
   "metadata": {},
   "outputs": [],
   "source": [
    "df = pd.read_csv(\"data/Yorkshire Water consumer habits.csv\")\n",
    "\n",
    "with open(\"data/habits_columns.csv\", \"r\") as f:\n",
    "    text_from_file = f.read()\n",
    "cols_to_look_at = text_from_file.split(\",\")\n",
    "\n",
    "df = df.loc[:, cols_to_look_at]\n",
    "df.drop(\"County\", axis=1, inplace=True)"
   ]
  },
  {
   "cell_type": "code",
   "execution_count": 3,
   "metadata": {},
   "outputs": [
    {
     "name": "stdout",
     "output_type": "stream",
     "text": [
      "<class 'pandas.core.frame.DataFrame'>\n",
      "RangeIndex: 13748 entries, 0 to 13747\n",
      "Data columns (total 60 columns):\n",
      " #   Column                                Non-Null Count  Dtype  \n",
      "---  ------                                --------------  -----  \n",
      " 0   Number-Of-Showers                     13748 non-null  int64  \n",
      " 1   Number-Of-Toilets                     13748 non-null  int64  \n",
      " 2   Number-Of-Basins                      13748 non-null  int64  \n",
      " 3   Number-Of-Bathtubs                    13748 non-null  int64  \n",
      " 4   Number-of-Kitchen-Utility-Taps        13748 non-null  int64  \n",
      " 5   Water-Garden                          13314 non-null  object \n",
      " 6   Use-Pressure-Washer                   13313 non-null  object \n",
      " 7   Number-Of-People                      13748 non-null  int64  \n",
      " 8   Home-Type                             13317 non-null  object \n",
      " 9   Water-Heated-With                     13748 non-null  object \n",
      " 10  Shower-Type                           12671 non-null  object \n",
      " 11  Showers-Per-Week                      12224 non-null  float64\n",
      " 12  Shower-Duration-Minutes               12152 non-null  float64\n",
      " 13  Shower-Turn-Off-Temporarily           12151 non-null  object \n",
      " 14  Shower-Leak                           12148 non-null  object \n",
      " 15  Shower-Leak-Rate                      1121 non-null   object \n",
      " 16  Toilet-Type                           13263 non-null  object \n",
      " 17  Toilet-Use-Small-Flush                6514 non-null   object \n",
      " 18  Toilet-Leak                           13263 non-null  object \n",
      " 19  Toilet-Leak-Rate                      936 non-null    object \n",
      " 20  Basin-Tap-Type                        13242 non-null  object \n",
      " 21  Basin-Tap-Flow-Rate                   13248 non-null  object \n",
      " 22  Basin-Tap-Leak                        13748 non-null  object \n",
      " 23  Basin-Tap-Leak-Rate                   343 non-null    object \n",
      " 24  Basin-Tap-Running-Brushing-Teeth      13248 non-null  object \n",
      " 25  Basin-Shave-Number-Of-People          13748 non-null  int64  \n",
      " 26  Basin-Shave-Tap-Running               7249 non-null   object \n",
      " 27  Bath-Frequency-Per-Week               11776 non-null  float64\n",
      " 28  Bath-Fill-Amount                      8202 non-null   object \n",
      " 29  Bath-Tap-Leak                         11485 non-null  object \n",
      " 30  Bath-Tap-Leak-Rate                    236 non-null    object \n",
      " 31  Kitchen-Tap-Type                      13219 non-null  object \n",
      " 32  Kitchen-Tap-Flow-Rate                 13224 non-null  object \n",
      " 33  Kitchen-Tap-Leak                      13227 non-null  object \n",
      " 34  Kitchen-Tap-Leak-Rate                 627 non-null    object \n",
      " 35  Kettle-How-Much-Water                 12964 non-null  object \n",
      " 36  Boil-Water-Per-Week                   13748 non-null  int64  \n",
      " 37  Wash-By-Hand-Per-Week                 8998 non-null   float64\n",
      " 38  Dishwasher-Per-Week                   13246 non-null  float64\n",
      " 39  Dishwasher-Eco                        5467 non-null   object \n",
      " 40  Washing-Machine-Per-Week              12891 non-null  float64\n",
      " 41  Car-Wash-Frequency                    3554 non-null   float64\n",
      " 42  Car-Wash-Water-Source                 3502 non-null   object \n",
      " 43  Car-Wash-Method                       3422 non-null   object \n",
      " 44  Garden-Water-Source                   5577 non-null   object \n",
      " 45  Garden-Water-Method                   4069 non-null   object \n",
      " 46  Garden-Water-Frequency-Per-Week       11173 non-null  float64\n",
      " 47  Garden-Water-Duration                 5528 non-null   object \n",
      " 48  Pressure-Washer-Frequency-Per-Week    10028 non-null  float64\n",
      " 49  Pressure-Washer-Per-Week-Duration     2233 non-null   object \n",
      " 50  Bathroom-Water-Use-Litres-Yearly      13748 non-null  int64  \n",
      " 51  Kitchen-Water-Use-Litres-Yearly       13748 non-null  int64  \n",
      " 52  Outdoor-Water-Use-Litres-Yearly       13748 non-null  int64  \n",
      " 53  Household-Water-Use-Litres-Yearly     13748 non-null  int64  \n",
      " 54  Household-Water-Saving-Litres-Yearly  13748 non-null  int64  \n",
      " 55  Person-Water-Use-Litres-Yearly        13748 non-null  int64  \n",
      " 56  Person-Water-Use-Litres-Per-Day       13748 non-null  int64  \n",
      " 57  Person-Water-Saving-Litres-Yearly     13748 non-null  int64  \n",
      " 58  Person-Water-Saving-Litres-Per-Day    13748 non-null  int64  \n",
      " 59  Household-Water-Rate-Cubic-Metre      13748 non-null  float64\n",
      "dtypes: float64(10), int64(17), object(33)\n",
      "memory usage: 6.3+ MB\n"
     ]
    }
   ],
   "source": [
    "df.info()"
   ]
  },
  {
   "cell_type": "code",
   "execution_count": null,
   "metadata": {},
   "outputs": [],
   "source": []
  },
  {
   "cell_type": "code",
   "execution_count": null,
   "metadata": {},
   "outputs": [],
   "source": []
  },
  {
   "cell_type": "code",
   "execution_count": 4,
   "metadata": {},
   "outputs": [],
   "source": [
    "mod_path = Path.cwd() / \"data\" / \"habits_column_modifiers.txt\"\n",
    "col_mod = hf.read_column_modifiers(mod_path)"
   ]
  },
  {
   "cell_type": "code",
   "execution_count": 5,
   "metadata": {},
   "outputs": [],
   "source": [
    "df = hf.add_classifier_columns(df, col_mod[\"classification\"])"
   ]
  },
  {
   "cell_type": "code",
   "execution_count": 6,
   "metadata": {},
   "outputs": [],
   "source": [
    "df = hf.modify_yes_no_columns(df, col_mod[\"yes-no\"])"
   ]
  },
  {
   "cell_type": "code",
   "execution_count": 7,
   "metadata": {},
   "outputs": [],
   "source": [
    "df = hf.modify_values_using_dict(df, col_mod[\"ordering\"])"
   ]
  },
  {
   "cell_type": "code",
   "execution_count": 8,
   "metadata": {},
   "outputs": [],
   "source": [
    "df = hf.modify_values_using_dict(df, col_mod[\"quantitative\"])"
   ]
  },
  {
   "cell_type": "code",
   "execution_count": 9,
   "metadata": {},
   "outputs": [],
   "source": [
    "df = hf.modify_leak_rate_columns(df)"
   ]
  },
  {
   "cell_type": "code",
   "execution_count": 10,
   "metadata": {},
   "outputs": [],
   "source": [
    "# df.info()"
   ]
  },
  {
   "cell_type": "code",
   "execution_count": 11,
   "metadata": {},
   "outputs": [],
   "source": [
    "col_counts = df.apply(lambda c: c.count(), axis=0)\n",
    "\n",
    "min_count = 10_000\n",
    "cols_to_drop = col_counts[col_counts < min_count].index\n",
    "\n",
    "df.drop(cols_to_drop, axis=1, inplace=True)"
   ]
  },
  {
   "cell_type": "code",
   "execution_count": null,
   "metadata": {},
   "outputs": [],
   "source": []
  },
  {
   "cell_type": "code",
   "execution_count": 12,
   "metadata": {},
   "outputs": [],
   "source": [
    "df.dropna(inplace=True)"
   ]
  },
  {
   "cell_type": "code",
   "execution_count": null,
   "metadata": {},
   "outputs": [],
   "source": []
  },
  {
   "cell_type": "code",
   "execution_count": 13,
   "metadata": {},
   "outputs": [],
   "source": [
    "X = df.loc[:, :\"Pressure-Washer-Frequency-Per-Week\"]\n",
    "y = df[\"Household-Water-Use-Litres-Yearly\"]"
   ]
  },
  {
   "cell_type": "code",
   "execution_count": 14,
   "metadata": {},
   "outputs": [],
   "source": [
    "X_train, X_test, y_train, y_test = train_test_split(X, y, test_size=0.2, random_state=1729)\n",
    "linear_model = LinearRegression()"
   ]
  },
  {
   "cell_type": "code",
   "execution_count": 15,
   "metadata": {},
   "outputs": [],
   "source": [
    "best_cols = hf.fit_models_based_on_score(linear_model, X_train, X_test, y_train, y_test, up_to=70)"
   ]
  },
  {
   "cell_type": "code",
   "execution_count": 16,
   "metadata": {},
   "outputs": [
    {
     "data": {
      "text/plain": [
       "26"
      ]
     },
     "execution_count": 16,
     "metadata": {},
     "output_type": "execute_result"
    }
   ],
   "source": [
    "len(best_cols)  # 26"
   ]
  },
  {
   "cell_type": "code",
   "execution_count": 17,
   "metadata": {},
   "outputs": [
    {
     "name": "stdout",
     "output_type": "stream",
     "text": [
      "column name                         Cumulative score\n",
      "Showers-Per-Week                               0.449\n",
      "Shower-Duration-Minutes                        0.619\n",
      "Number-Of-People                               0.733\n",
      "Washing-Machine-Per-Week                       0.783\n",
      "Shower-Type_electric                           0.813\n",
      "Bath-Frequency-Per-Week                        0.832\n",
      "Basin-Shave-Number-Of-People                   0.839\n",
      "Shower-Leak-Rate                               0.843\n",
      "Shower-Type_gravity                            0.846\n",
      "Toilet-Type_2-button-flush                     0.849\n",
      "Kitchen-Tap-Flow-Rate                          0.852\n",
      "Pressure-Washer-Frequency-Per-Week             0.855\n",
      "Toilet-Leak-Rate                               0.858\n",
      "Basin-Tap-Running-Brushing-Teeth               0.860\n",
      "Kitchen-Tap-Leak-Rate                          0.860\n",
      "Number-Of-Bathtubs                             0.861\n",
      "Use-Pressure-Washer                            0.861\n",
      "Garden-Water-Method_hosepipe-only              0.862\n",
      "Number-Of-Basins                               0.862\n",
      "Number-Of-Toilets                              0.862\n",
      "Kettle-How-Much-Water                          0.862\n",
      "Basin-Tap-Flow-Rate                            0.863\n",
      "Number-Of-Showers                              0.863\n",
      "Water-Heated-With_renewable                    0.863\n",
      "Home-Type_detached                             0.863\n",
      "Washing-Machine-Per-Week                       0.863\n"
     ]
    }
   ],
   "source": [
    "print(f'{\"column name\".ljust(35)} Cumulative score')\n",
    "for i, col in enumerate(best_cols):\n",
    "    linear_model.fit(X_train.loc[:, best_cols[:i+1]], y_train)\n",
    "    print(f\"{col.ljust(46)} {linear_model.score(X_test.loc[:, best_cols[:i+1]], y_test):.3f}\")"
   ]
  },
  {
   "cell_type": "code",
   "execution_count": 18,
   "metadata": {},
   "outputs": [
    {
     "data": {
      "text/plain": [
       "0.8777587060826759"
      ]
     },
     "execution_count": 18,
     "metadata": {},
     "output_type": "execute_result"
    }
   ],
   "source": [
    "linear_model.fit(X_train.loc[:, best_cols], y_train)\n",
    "linear_model.score(X.loc[:, best_cols], y)  # 0.8778"
   ]
  },
  {
   "cell_type": "code",
   "execution_count": null,
   "metadata": {},
   "outputs": [],
   "source": []
  }
 ],
 "metadata": {
  "kernelspec": {
   "display_name": "yw",
   "language": "python",
   "name": "python3"
  },
  "language_info": {
   "codemirror_mode": {
    "name": "ipython",
    "version": 3
   },
   "file_extension": ".py",
   "mimetype": "text/x-python",
   "name": "python",
   "nbconvert_exporter": "python",
   "pygments_lexer": "ipython3",
   "version": "3.9.16"
  },
  "orig_nbformat": 4
 },
 "nbformat": 4,
 "nbformat_minor": 2
}
