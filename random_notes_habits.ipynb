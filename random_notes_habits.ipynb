{
 "cells": [
  {
   "cell_type": "code",
   "execution_count": 1,
   "metadata": {},
   "outputs": [],
   "source": [
    "from pathlib import Path\n",
    "\n",
    "import numpy as np\n",
    "import pandas as pd\n",
    "from sklearn.linear_model import LinearRegression"
   ]
  },
  {
   "cell_type": "code",
   "execution_count": 2,
   "metadata": {},
   "outputs": [],
   "source": [
    "import useful_functions.habits_func as hf"
   ]
  },
  {
   "cell_type": "code",
   "execution_count": 3,
   "metadata": {},
   "outputs": [],
   "source": [
    "habits_df = pd.read_csv(\"data/Yorkshire Water consumer habits.csv\")"
   ]
  },
  {
   "cell_type": "code",
   "execution_count": 4,
   "metadata": {},
   "outputs": [],
   "source": [
    "# habits_df.columns"
   ]
  },
  {
   "cell_type": "code",
   "execution_count": 5,
   "metadata": {},
   "outputs": [],
   "source": [
    "# cols_to_look_at = [\"Water-Garden\", \"Use-Pressure-Washer\", \"Number-Of-People\", \"Home-Type\", \"Water-Heated-With\", \"Shower-Type\", \"Showers-Per_week\", \"Shower-Duration-Minutes\", \"Shower-Turn-Off-Temporarily\", \"Shower-Leak\", \"Shower-Leak-Rate\", \"Toilet-Type\", \"Toilet-Use-Small-Flush\", \"Toilet-Leak\", \"Toilet-Leak-Rate\", \"Basin-Tap-Type\", \"Basin-Tap-Flow-Rate\", \"Basin-Tap-Leak\", \"Basin-Tap-Leak-Rate\", \"Basin-Tap-Running-Brushing-Teeth\", \"Basin-Shave-Number-Of-People\", \"Basin-Shave-Tap-Running\", ]"
   ]
  },
  {
   "cell_type": "code",
   "execution_count": 6,
   "metadata": {},
   "outputs": [
    {
     "data": {
      "text/plain": [
       "61"
      ]
     },
     "execution_count": 6,
     "metadata": {},
     "output_type": "execute_result"
    }
   ],
   "source": [
    "with open(\"data/habits_columns.csv\", \"r\") as f:\n",
    "    text_from_file = f.read()\n",
    "cols_to_look_at = text_from_file.split(\",\")\n",
    "len(cols_to_look_at)"
   ]
  },
  {
   "cell_type": "code",
   "execution_count": 7,
   "metadata": {},
   "outputs": [],
   "source": [
    "# for col in cols_to_look_at:\n",
    "#     print(col)"
   ]
  },
  {
   "cell_type": "code",
   "execution_count": 8,
   "metadata": {},
   "outputs": [
    {
     "data": {
      "text/html": [
       "<div>\n",
       "<style scoped>\n",
       "    .dataframe tbody tr th:only-of-type {\n",
       "        vertical-align: middle;\n",
       "    }\n",
       "\n",
       "    .dataframe tbody tr th {\n",
       "        vertical-align: top;\n",
       "    }\n",
       "\n",
       "    .dataframe thead th {\n",
       "        text-align: right;\n",
       "    }\n",
       "</style>\n",
       "<table border=\"1\" class=\"dataframe\">\n",
       "  <thead>\n",
       "    <tr style=\"text-align: right;\">\n",
       "      <th></th>\n",
       "      <th>Person-Water-Saving-Litres-Per-Day</th>\n",
       "      <th>Household-Energy-Rate-KWh</th>\n",
       "      <th>Household-Water-Rate-Cubic-Metre</th>\n",
       "      <th>Unnamed: 97</th>\n",
       "      <th>Unnamed: 98</th>\n",
       "    </tr>\n",
       "  </thead>\n",
       "  <tbody>\n",
       "    <tr>\n",
       "      <th>13743</th>\n",
       "      <td>139</td>\n",
       "      <td>0.1575</td>\n",
       "      <td>3.02</td>\n",
       "      <td>NaN</td>\n",
       "      <td>NaN</td>\n",
       "    </tr>\n",
       "    <tr>\n",
       "      <th>13744</th>\n",
       "      <td>36</td>\n",
       "      <td>0.0374</td>\n",
       "      <td>3.02</td>\n",
       "      <td>NaN</td>\n",
       "      <td>NaN</td>\n",
       "    </tr>\n",
       "    <tr>\n",
       "      <th>13745</th>\n",
       "      <td>20</td>\n",
       "      <td>0.0374</td>\n",
       "      <td>3.02</td>\n",
       "      <td>NaN</td>\n",
       "      <td>NaN</td>\n",
       "    </tr>\n",
       "    <tr>\n",
       "      <th>13746</th>\n",
       "      <td>175</td>\n",
       "      <td>0.0374</td>\n",
       "      <td>3.02</td>\n",
       "      <td>NaN</td>\n",
       "      <td>NaN</td>\n",
       "    </tr>\n",
       "    <tr>\n",
       "      <th>13747</th>\n",
       "      <td>28</td>\n",
       "      <td>0.0374</td>\n",
       "      <td>3.02</td>\n",
       "      <td>NaN</td>\n",
       "      <td>NaN</td>\n",
       "    </tr>\n",
       "  </tbody>\n",
       "</table>\n",
       "</div>"
      ],
      "text/plain": [
       "       Person-Water-Saving-Litres-Per-Day  Household-Energy-Rate-KWh  \\\n",
       "13743                                 139                     0.1575   \n",
       "13744                                  36                     0.0374   \n",
       "13745                                  20                     0.0374   \n",
       "13746                                 175                     0.0374   \n",
       "13747                                  28                     0.0374   \n",
       "\n",
       "       Household-Water-Rate-Cubic-Metre  Unnamed: 97  Unnamed: 98  \n",
       "13743                              3.02          NaN          NaN  \n",
       "13744                              3.02          NaN          NaN  \n",
       "13745                              3.02          NaN          NaN  \n",
       "13746                              3.02          NaN          NaN  \n",
       "13747                              3.02          NaN          NaN  "
      ]
     },
     "execution_count": 8,
     "metadata": {},
     "output_type": "execute_result"
    }
   ],
   "source": [
    "habits_df.iloc[-5:,-5:]"
   ]
  },
  {
   "cell_type": "code",
   "execution_count": 9,
   "metadata": {},
   "outputs": [],
   "source": [
    "df = habits_df.loc[:, cols_to_look_at]"
   ]
  },
  {
   "cell_type": "code",
   "execution_count": 10,
   "metadata": {},
   "outputs": [
    {
     "name": "stdout",
     "output_type": "stream",
     "text": [
      "<class 'pandas.core.frame.DataFrame'>\n",
      "RangeIndex: 13748 entries, 0 to 13747\n",
      "Data columns (total 61 columns):\n",
      " #   Column                                Non-Null Count  Dtype  \n",
      "---  ------                                --------------  -----  \n",
      " 0   County                                13748 non-null  object \n",
      " 1   Number-Of-Showers                     13748 non-null  int64  \n",
      " 2   Number-Of-Toilets                     13748 non-null  int64  \n",
      " 3   Number-Of-Basins                      13748 non-null  int64  \n",
      " 4   Number-Of-Bathtubs                    13748 non-null  int64  \n",
      " 5   Number-of-Kitchen-Utility-Taps        13748 non-null  int64  \n",
      " 6   Water-Garden                          13314 non-null  object \n",
      " 7   Use-Pressure-Washer                   13313 non-null  object \n",
      " 8   Number-Of-People                      13748 non-null  int64  \n",
      " 9   Home-Type                             13317 non-null  object \n",
      " 10  Water-Heated-With                     13748 non-null  object \n",
      " 11  Shower-Type                           12671 non-null  object \n",
      " 12  Showers-Per-Week                      12224 non-null  float64\n",
      " 13  Shower-Duration-Minutes               12152 non-null  float64\n",
      " 14  Shower-Turn-Off-Temporarily           12151 non-null  object \n",
      " 15  Shower-Leak                           12148 non-null  object \n",
      " 16  Shower-Leak-Rate                      1121 non-null   object \n",
      " 17  Toilet-Type                           13263 non-null  object \n",
      " 18  Toilet-Use-Small-Flush                6514 non-null   object \n",
      " 19  Toilet-Leak                           13263 non-null  object \n",
      " 20  Toilet-Leak-Rate                      936 non-null    object \n",
      " 21  Basin-Tap-Type                        13242 non-null  object \n",
      " 22  Basin-Tap-Flow-Rate                   13248 non-null  object \n",
      " 23  Basin-Tap-Leak                        13748 non-null  object \n",
      " 24  Basin-Tap-Leak-Rate                   343 non-null    object \n",
      " 25  Basin-Tap-Running-Brushing-Teeth      13248 non-null  object \n",
      " 26  Basin-Shave-Number-Of-People          13748 non-null  int64  \n",
      " 27  Basin-Shave-Tap-Running               7249 non-null   object \n",
      " 28  Bath-Frequency-Per-Week               11776 non-null  float64\n",
      " 29  Bath-Fill-Amount                      8202 non-null   object \n",
      " 30  Bath-Tap-Leak                         11485 non-null  object \n",
      " 31  Bath-Tap-Leak-Rate                    236 non-null    object \n",
      " 32  Kitchen-Tap-Type                      13219 non-null  object \n",
      " 33  Kitchen-Tap-Flow-Rate                 13224 non-null  object \n",
      " 34  Kitchen-Tap-Leak                      13227 non-null  object \n",
      " 35  Kitchen-Tap-Leak-Rate                 627 non-null    object \n",
      " 36  Kettle-How-Much-Water                 12964 non-null  object \n",
      " 37  Boil-Water-Per-Week                   13748 non-null  int64  \n",
      " 38  Wash-By-Hand-Per-Week                 8998 non-null   float64\n",
      " 39  Dishwasher-Per-Week                   13246 non-null  float64\n",
      " 40  Dishwasher-Eco                        5467 non-null   object \n",
      " 41  Washing-Machine-Per-Week              12891 non-null  float64\n",
      " 42  Car-Wash-Frequency                    3554 non-null   float64\n",
      " 43  Car-Wash-Water-Source                 3502 non-null   object \n",
      " 44  Car-Wash-Method                       3422 non-null   object \n",
      " 45  Garden-Water-Source                   5577 non-null   object \n",
      " 46  Garden-Water-Method                   4069 non-null   object \n",
      " 47  Garden-Water-Frequency-Per-Week       11173 non-null  float64\n",
      " 48  Garden-Water-Duration                 5528 non-null   object \n",
      " 49  Pressure-Washer-Frequency-Per-Week    10028 non-null  float64\n",
      " 50  Pressure-Washer-Per-Week-Duration     2233 non-null   object \n",
      " 51  Bathroom-Water-Use-Litres-Yearly      13748 non-null  int64  \n",
      " 52  Kitchen-Water-Use-Litres-Yearly       13748 non-null  int64  \n",
      " 53  Outdoor-Water-Use-Litres-Yearly       13748 non-null  int64  \n",
      " 54  Household-Water-Use-Litres-Yearly     13748 non-null  int64  \n",
      " 55  Household-Water-Saving-Litres-Yearly  13748 non-null  int64  \n",
      " 56  Person-Water-Use-Litres-Yearly        13748 non-null  int64  \n",
      " 57  Person-Water-Use-Litres-Per-Day       13748 non-null  int64  \n",
      " 58  Person-Water-Saving-Litres-Yearly     13748 non-null  int64  \n",
      " 59  Person-Water-Saving-Litres-Per-Day    13748 non-null  int64  \n",
      " 60  Household-Water-Rate-Cubic-Metre      13748 non-null  float64\n",
      "dtypes: float64(10), int64(17), object(34)\n",
      "memory usage: 6.4+ MB\n"
     ]
    }
   ],
   "source": [
    "df.info()"
   ]
  },
  {
   "cell_type": "code",
   "execution_count": 11,
   "metadata": {},
   "outputs": [
    {
     "name": "stdout",
     "output_type": "stream",
     "text": [
      "nan True\n",
      "no True\n",
      "yes True\n"
     ]
    }
   ],
   "source": [
    "test_set = set(df[\"Water-Garden\"].unique())\n",
    "other_set = set(df[\"Use-Pressure-Washer\"].unique())\n",
    "for item in other_set:\n",
    "    print(item, item in test_set)\n",
    "\n"
   ]
  },
  {
   "cell_type": "code",
   "execution_count": 12,
   "metadata": {},
   "outputs": [],
   "source": [
    "# y_n_set = set([\"yes\", \"no\"])"
   ]
  },
  {
   "cell_type": "code",
   "execution_count": 13,
   "metadata": {},
   "outputs": [],
   "source": [
    "# yes_no_columns = []\n",
    "# for col in df.columns:\n",
    "#     for item in df[col].unique():\n",
    "#         if item not in test_set:\n",
    "#             break\n",
    "#     else:\n",
    "#         yes_no_columns.append(col)"
   ]
  },
  {
   "cell_type": "code",
   "execution_count": 14,
   "metadata": {},
   "outputs": [],
   "source": [
    "# yes_no_columns"
   ]
  },
  {
   "cell_type": "code",
   "execution_count": 15,
   "metadata": {},
   "outputs": [],
   "source": [
    "# for col in yes_no_columns:\n",
    "#     print(df[col].unique())"
   ]
  },
  {
   "cell_type": "code",
   "execution_count": 16,
   "metadata": {},
   "outputs": [],
   "source": [
    "# df.loc[:, yes_no_columns] = df.loc[:, yes_no_columns].replace({\"no\": 0, \"yes\": 1})"
   ]
  },
  {
   "cell_type": "code",
   "execution_count": 17,
   "metadata": {},
   "outputs": [],
   "source": [
    "# df.info()"
   ]
  },
  {
   "cell_type": "code",
   "execution_count": 18,
   "metadata": {},
   "outputs": [
    {
     "data": {
      "text/plain": [
       "True"
      ]
     },
     "execution_count": 18,
     "metadata": {},
     "output_type": "execute_result"
    }
   ],
   "source": [
    "df[\"County\"].dtype == \"object\""
   ]
  },
  {
   "cell_type": "code",
   "execution_count": 19,
   "metadata": {},
   "outputs": [],
   "source": [
    "object_columns = [col for col in df.columns if df[col].dtype == \"object\"]"
   ]
  },
  {
   "cell_type": "code",
   "execution_count": 20,
   "metadata": {},
   "outputs": [
    {
     "data": {
      "text/plain": [
       "['County',\n",
       " 'Water-Garden',\n",
       " 'Use-Pressure-Washer',\n",
       " 'Home-Type',\n",
       " 'Water-Heated-With',\n",
       " 'Shower-Type',\n",
       " 'Shower-Turn-Off-Temporarily',\n",
       " 'Shower-Leak',\n",
       " 'Shower-Leak-Rate',\n",
       " 'Toilet-Type',\n",
       " 'Toilet-Use-Small-Flush',\n",
       " 'Toilet-Leak',\n",
       " 'Toilet-Leak-Rate',\n",
       " 'Basin-Tap-Type',\n",
       " 'Basin-Tap-Flow-Rate',\n",
       " 'Basin-Tap-Leak',\n",
       " 'Basin-Tap-Leak-Rate',\n",
       " 'Basin-Tap-Running-Brushing-Teeth',\n",
       " 'Basin-Shave-Tap-Running',\n",
       " 'Bath-Fill-Amount',\n",
       " 'Bath-Tap-Leak',\n",
       " 'Bath-Tap-Leak-Rate',\n",
       " 'Kitchen-Tap-Type',\n",
       " 'Kitchen-Tap-Flow-Rate',\n",
       " 'Kitchen-Tap-Leak',\n",
       " 'Kitchen-Tap-Leak-Rate',\n",
       " 'Kettle-How-Much-Water',\n",
       " 'Dishwasher-Eco',\n",
       " 'Car-Wash-Water-Source',\n",
       " 'Car-Wash-Method',\n",
       " 'Garden-Water-Source',\n",
       " 'Garden-Water-Method',\n",
       " 'Garden-Water-Duration',\n",
       " 'Pressure-Washer-Per-Week-Duration']"
      ]
     },
     "execution_count": 20,
     "metadata": {},
     "output_type": "execute_result"
    }
   ],
   "source": [
    "object_columns"
   ]
  },
  {
   "cell_type": "code",
   "execution_count": 21,
   "metadata": {},
   "outputs": [],
   "source": [
    "# for col in object_columns:\n",
    "#     print(df[col].value_counts())"
   ]
  },
  {
   "cell_type": "code",
   "execution_count": 22,
   "metadata": {},
   "outputs": [],
   "source": [
    "# for col_index in range(6, 11):\n",
    "#     print(df.iloc[:, col_index].value_counts())"
   ]
  },
  {
   "cell_type": "markdown",
   "metadata": {},
   "source": [
    "### modifying values"
   ]
  },
  {
   "cell_type": "code",
   "execution_count": 23,
   "metadata": {},
   "outputs": [
    {
     "data": {
      "text/plain": [
       "61"
      ]
     },
     "execution_count": 23,
     "metadata": {},
     "output_type": "execute_result"
    }
   ],
   "source": [
    "len(df.columns)"
   ]
  },
  {
   "cell_type": "code",
   "execution_count": 24,
   "metadata": {},
   "outputs": [],
   "source": [
    "mod_path = Path.cwd() / \"data\" / \"habits_column_modifiers.txt\""
   ]
  },
  {
   "cell_type": "code",
   "execution_count": 25,
   "metadata": {},
   "outputs": [],
   "source": [
    "col_mod = hf.read_column_modifiers(mod_path)"
   ]
  },
  {
   "cell_type": "code",
   "execution_count": 26,
   "metadata": {},
   "outputs": [
    {
     "data": {
      "text/plain": [
       "['Home-Type',\n",
       " 'Water-Heated-With',\n",
       " 'Shower-Type',\n",
       " 'Toilet-Type',\n",
       " 'Basin-Tap-Type',\n",
       " 'Kitchen-Tap-Type',\n",
       " 'Car-Wash-Water-Source',\n",
       " 'Car-Wash-Method',\n",
       " 'Garden-Water-Source',\n",
       " 'Garden-Water-Method']"
      ]
     },
     "execution_count": 26,
     "metadata": {},
     "output_type": "execute_result"
    }
   ],
   "source": [
    "col_mod[\"classification\"]"
   ]
  },
  {
   "cell_type": "code",
   "execution_count": 27,
   "metadata": {},
   "outputs": [],
   "source": [
    "df = hf.add_classifier_columns(df, col_mod[\"classification\"])"
   ]
  },
  {
   "cell_type": "code",
   "execution_count": 28,
   "metadata": {},
   "outputs": [
    {
     "data": {
      "text/plain": [
       "['Water-Garden',\n",
       " 'Use-Pressure-Washer',\n",
       " 'Basin-Shave-Tap-Running',\n",
       " 'Shower-Leak',\n",
       " 'Toilet-Leak',\n",
       " 'Basin-Tap-Leak',\n",
       " 'Bath-Tap-Leak',\n",
       " 'Kitchen-Tap-Leak']"
      ]
     },
     "execution_count": 28,
     "metadata": {},
     "output_type": "execute_result"
    }
   ],
   "source": [
    "col_mod[\"yes-no\"]"
   ]
  },
  {
   "cell_type": "code",
   "execution_count": 29,
   "metadata": {},
   "outputs": [],
   "source": [
    "df = hf.modify_yes_no_columns(df, col_mod[\"yes-no\"])"
   ]
  },
  {
   "cell_type": "code",
   "execution_count": 30,
   "metadata": {},
   "outputs": [
    {
     "name": "stdout",
     "output_type": "stream",
     "text": [
      "Shower-Turn-Off-Temporarily\n",
      "Shower-Leak-Rate\n",
      "Toilet-Use-Small-Flush\n",
      "Toilet-Leak-Rate\n",
      "Basin-Tap-Flow-Rate\n",
      "Basin-Tap-Leak-Rate\n",
      "Basin-Tap-Running-Brushing-Teeth\n",
      "Bath-Fill-Amount\n",
      "Bath-Tap-Leak-Rate\n",
      "Kitchen-Tap-Flow-Rate\n",
      "Kitchen-Tap-Leak-Rate\n",
      "Kettle-How-Much-Water\n",
      "Dishwasher-Eco\n"
     ]
    }
   ],
   "source": [
    "for k in col_mod[\"ordering\"]:\n",
    "    print(k)"
   ]
  },
  {
   "cell_type": "code",
   "execution_count": 31,
   "metadata": {},
   "outputs": [],
   "source": [
    "df = hf.modify_values_using_dict(df, col_mod[\"ordering\"])"
   ]
  },
  {
   "cell_type": "code",
   "execution_count": 32,
   "metadata": {},
   "outputs": [
    {
     "name": "stdout",
     "output_type": "stream",
     "text": [
      "Garden-Water-Duration\n",
      "Pressure-Washer-Per-Week-Duration\n"
     ]
    }
   ],
   "source": [
    "for k in col_mod[\"quantitative\"]:\n",
    "    print(k)"
   ]
  },
  {
   "cell_type": "code",
   "execution_count": 33,
   "metadata": {},
   "outputs": [],
   "source": [
    "df = hf.modify_values_using_dict(df, col_mod[\"quantitative\"])"
   ]
  },
  {
   "cell_type": "code",
   "execution_count": 34,
   "metadata": {},
   "outputs": [],
   "source": [
    "df = hf.modify_rate_columns(df)"
   ]
  },
  {
   "cell_type": "code",
   "execution_count": 35,
   "metadata": {},
   "outputs": [],
   "source": [
    "df = df.drop(\"County\", axis=1)"
   ]
  },
  {
   "cell_type": "code",
   "execution_count": 36,
   "metadata": {},
   "outputs": [
    {
     "data": {
      "text/plain": [
       "91"
      ]
     },
     "execution_count": 36,
     "metadata": {},
     "output_type": "execute_result"
    }
   ],
   "source": [
    "len(df.columns)"
   ]
  },
  {
   "cell_type": "code",
   "execution_count": 37,
   "metadata": {},
   "outputs": [
    {
     "name": "stdout",
     "output_type": "stream",
     "text": [
      "<class 'pandas.core.frame.DataFrame'>\n",
      "RangeIndex: 13748 entries, 0 to 13747\n",
      "Data columns (total 91 columns):\n",
      " #   Column                                           Non-Null Count  Dtype  \n",
      "---  ------                                           --------------  -----  \n",
      " 0   Number-Of-Showers                                13748 non-null  int64  \n",
      " 1   Number-Of-Toilets                                13748 non-null  int64  \n",
      " 2   Number-Of-Basins                                 13748 non-null  int64  \n",
      " 3   Number-Of-Bathtubs                               13748 non-null  int64  \n",
      " 4   Number-of-Kitchen-Utility-Taps                   13748 non-null  int64  \n",
      " 5   Water-Garden                                     13314 non-null  float64\n",
      " 6   Use-Pressure-Washer                              13313 non-null  float64\n",
      " 7   Number-Of-People                                 13748 non-null  int64  \n",
      " 8   Home-Type_cottage-bungalow                       13748 non-null  int64  \n",
      " 9   Home-Type_flat                                   13748 non-null  int64  \n",
      " 10  Home-Type_detached                               13748 non-null  int64  \n",
      " 11  Home-Type_semi-detached                          13748 non-null  int64  \n",
      " 12  Home-Type_terrace                                13748 non-null  int64  \n",
      " 13  Water-Heated-With_other                          13748 non-null  int64  \n",
      " 14  Water-Heated-With_oil                            13748 non-null  int64  \n",
      " 15  Water-Heated-With_renewable                      13748 non-null  int64  \n",
      " 16  Water-Heated-With_coal                           13748 non-null  int64  \n",
      " 17  Water-Heated-With_i-dont-know                    13748 non-null  int64  \n",
      " 18  Water-Heated-With_electric                       13748 non-null  int64  \n",
      " 19  Water-Heated-With_gas                            13748 non-null  int64  \n",
      " 20  Shower-Type_gravity                              13748 non-null  int64  \n",
      " 21  Shower-Type_pumped                               13748 non-null  int64  \n",
      " 22  Shower-Type_electric                             13748 non-null  int64  \n",
      " 23  Shower-Type_mains-pressure                       13748 non-null  int64  \n",
      " 24  Shower-Type_multijet                             13748 non-null  int64  \n",
      " 25  Showers-Per-Week                                 12224 non-null  float64\n",
      " 26  Shower-Duration-Minutes                          12152 non-null  float64\n",
      " 27  Shower-Turn-Off-Temporarily                      12151 non-null  float64\n",
      " 28  Shower-Leak                                      12148 non-null  float64\n",
      " 29  Shower-Leak-Rate                                 12148 non-null  float64\n",
      " 30  Toilet-Type_rainwater-flush                      13748 non-null  int64  \n",
      " 31  Toilet-Type_single-lever-handle                  13748 non-null  int64  \n",
      " 32  Toilet-Type_2-button-flush                       13748 non-null  int64  \n",
      " 33  Toilet-Type_1-button-flush                       13748 non-null  int64  \n",
      " 34  Toilet-Use-Small-Flush                           6217 non-null   float64\n",
      " 35  Toilet-Leak                                      13263 non-null  float64\n",
      " 36  Toilet-Leak-Rate                                 13263 non-null  float64\n",
      " 37  Basin-Tap-Type_other                             13748 non-null  int64  \n",
      " 38  Basin-Tap-Type_separate-hot-and-cold             13748 non-null  int64  \n",
      " 39  Basin-Tap-Type_mixer                             13748 non-null  int64  \n",
      " 40  Basin-Tap-Flow-Rate                              13248 non-null  float64\n",
      " 41  Basin-Tap-Leak                                   13601 non-null  float64\n",
      " 42  Basin-Tap-Leak-Rate                              13600 non-null  float64\n",
      " 43  Basin-Tap-Running-Brushing-Teeth                 13144 non-null  float64\n",
      " 44  Basin-Shave-Number-Of-People                     13748 non-null  int64  \n",
      " 45  Basin-Shave-Tap-Running                          7249 non-null   float64\n",
      " 46  Bath-Frequency-Per-Week                          11776 non-null  float64\n",
      " 47  Bath-Fill-Amount                                 8122 non-null   float64\n",
      " 48  Bath-Tap-Leak                                    11485 non-null  float64\n",
      " 49  Bath-Tap-Leak-Rate                               11484 non-null  float64\n",
      " 50  Kitchen-Tap-Type_other                           13748 non-null  int64  \n",
      " 51  Kitchen-Tap-Type_separate-hot-and-cold           13748 non-null  int64  \n",
      " 52  Kitchen-Tap-Type_mixer                           13748 non-null  int64  \n",
      " 53  Kitchen-Tap-Flow-Rate                            13224 non-null  float64\n",
      " 54  Kitchen-Tap-Leak                                 13227 non-null  float64\n",
      " 55  Kitchen-Tap-Leak-Rate                            13226 non-null  float64\n",
      " 56  Kettle-How-Much-Water                            12920 non-null  float64\n",
      " 57  Boil-Water-Per-Week                              13748 non-null  int64  \n",
      " 58  Wash-By-Hand-Per-Week                            8998 non-null   float64\n",
      " 59  Dishwasher-Per-Week                              13246 non-null  float64\n",
      " 60  Dishwasher-Eco                                   5066 non-null   float64\n",
      " 61  Washing-Machine-Per-Week                         12891 non-null  float64\n",
      " 62  Car-Wash-Frequency                               3554 non-null   float64\n",
      " 63  Car-Wash-Water-Source_recycled-grey-water        13748 non-null  int64  \n",
      " 64  Car-Wash-Water-Source_rainwater                  13748 non-null  int64  \n",
      " 65  Car-Wash-Water-Source_mains-water                13748 non-null  int64  \n",
      " 66  Car-Wash-Method_hosepipe-only                    13748 non-null  int64  \n",
      " 67  Car-Wash-Method_hosepipe-and-hose-gun            13748 non-null  int64  \n",
      " 68  Car-Wash-Method_bucket-and-sponge                13748 non-null  int64  \n",
      " 69  Car-Wash-Method_pressure-washer                  13748 non-null  int64  \n",
      " 70  Garden-Water-Source_recycled-grey-water          13748 non-null  int64  \n",
      " 71  Garden-Water-Source_rain-water                   13748 non-null  int64  \n",
      " 72  Garden-Water-Source_mains-water                  13748 non-null  int64  \n",
      " 73  Garden-Water-Method_irrigation-sprinkler-system  13748 non-null  int64  \n",
      " 74  Garden-Water-Method_watering-can                 13748 non-null  int64  \n",
      " 75  Garden-Water-Method_hosepipe-and-hose-gun        13748 non-null  int64  \n",
      " 76  Garden-Water-Method_hosepipe-only                13748 non-null  int64  \n",
      " 77  Garden-Water-Frequency-Per-Week                  11173 non-null  float64\n",
      " 78  Garden-Water-Duration                            5528 non-null   float64\n",
      " 79  Pressure-Washer-Frequency-Per-Week               10028 non-null  float64\n",
      " 80  Pressure-Washer-Per-Week-Duration                2233 non-null   float64\n",
      " 81  Bathroom-Water-Use-Litres-Yearly                 13748 non-null  int64  \n",
      " 82  Kitchen-Water-Use-Litres-Yearly                  13748 non-null  int64  \n",
      " 83  Outdoor-Water-Use-Litres-Yearly                  13748 non-null  int64  \n",
      " 84  Household-Water-Use-Litres-Yearly                13748 non-null  int64  \n",
      " 85  Household-Water-Saving-Litres-Yearly             13748 non-null  int64  \n",
      " 86  Person-Water-Use-Litres-Yearly                   13748 non-null  int64  \n",
      " 87  Person-Water-Use-Litres-Per-Day                  13748 non-null  int64  \n",
      " 88  Person-Water-Saving-Litres-Yearly                13748 non-null  int64  \n",
      " 89  Person-Water-Saving-Litres-Per-Day               13748 non-null  int64  \n",
      " 90  Household-Water-Rate-Cubic-Metre                 13748 non-null  float64\n",
      "dtypes: float64(33), int64(58)\n",
      "memory usage: 9.5 MB\n"
     ]
    }
   ],
   "source": [
    "df.info()"
   ]
  },
  {
   "cell_type": "code",
   "execution_count": null,
   "metadata": {},
   "outputs": [],
   "source": []
  },
  {
   "cell_type": "code",
   "execution_count": 38,
   "metadata": {},
   "outputs": [],
   "source": [
    "testi = df.apply(lambda x: x.count(), axis=0)"
   ]
  },
  {
   "cell_type": "code",
   "execution_count": 39,
   "metadata": {},
   "outputs": [
    {
     "data": {
      "text/plain": [
       "Pressure-Washer-Per-Week-Duration      2233\n",
       "Car-Wash-Frequency                     3554\n",
       "Dishwasher-Eco                         5066\n",
       "Garden-Water-Duration                  5528\n",
       "Toilet-Use-Small-Flush                 6217\n",
       "Basin-Shave-Tap-Running                7249\n",
       "Bath-Fill-Amount                       8122\n",
       "Wash-By-Hand-Per-Week                  8998\n",
       "Pressure-Washer-Frequency-Per-Week    10028\n",
       "Garden-Water-Frequency-Per-Week       11173\n",
       "Bath-Tap-Leak-Rate                    11484\n",
       "Bath-Tap-Leak                         11485\n",
       "Bath-Frequency-Per-Week               11776\n",
       "Shower-Leak-Rate                      12148\n",
       "Shower-Leak                           12148\n",
       "dtype: int64"
      ]
     },
     "execution_count": 39,
     "metadata": {},
     "output_type": "execute_result"
    }
   ],
   "source": [
    "testi.sort_values(ascending=True)[:15]"
   ]
  },
  {
   "cell_type": "code",
   "execution_count": 40,
   "metadata": {},
   "outputs": [],
   "source": [
    "min_count = 10_000\n",
    "cols_to_drop = testi[testi < min_count].index"
   ]
  },
  {
   "cell_type": "code",
   "execution_count": 41,
   "metadata": {},
   "outputs": [],
   "source": [
    "df = df.drop(cols_to_drop, axis=1)"
   ]
  },
  {
   "cell_type": "code",
   "execution_count": 42,
   "metadata": {},
   "outputs": [
    {
     "data": {
      "text/plain": [
       "6599"
      ]
     },
     "execution_count": 42,
     "metadata": {},
     "output_type": "execute_result"
    }
   ],
   "source": [
    "len(df.dropna())"
   ]
  },
  {
   "cell_type": "markdown",
   "metadata": {},
   "source": [
    "### Linear Regression"
   ]
  },
  {
   "cell_type": "code",
   "execution_count": null,
   "metadata": {},
   "outputs": [],
   "source": []
  },
  {
   "cell_type": "code",
   "execution_count": 43,
   "metadata": {},
   "outputs": [
    {
     "data": {
      "text/plain": [
       "Index(['Garden-Water-Method_watering-can',\n",
       "       'Garden-Water-Method_hosepipe-and-hose-gun',\n",
       "       'Garden-Water-Method_hosepipe-only', 'Garden-Water-Frequency-Per-Week',\n",
       "       'Pressure-Washer-Frequency-Per-Week',\n",
       "       'Bathroom-Water-Use-Litres-Yearly', 'Kitchen-Water-Use-Litres-Yearly',\n",
       "       'Outdoor-Water-Use-Litres-Yearly', 'Household-Water-Use-Litres-Yearly',\n",
       "       'Household-Water-Saving-Litres-Yearly',\n",
       "       'Person-Water-Use-Litres-Yearly', 'Person-Water-Use-Litres-Per-Day',\n",
       "       'Person-Water-Saving-Litres-Yearly',\n",
       "       'Person-Water-Saving-Litres-Per-Day',\n",
       "       'Household-Water-Rate-Cubic-Metre'],\n",
       "      dtype='object')"
      ]
     },
     "execution_count": 43,
     "metadata": {},
     "output_type": "execute_result"
    }
   ],
   "source": [
    "df.columns[-15:]"
   ]
  },
  {
   "cell_type": "code",
   "execution_count": 44,
   "metadata": {},
   "outputs": [],
   "source": [
    "df = df.dropna()"
   ]
  },
  {
   "cell_type": "code",
   "execution_count": 45,
   "metadata": {},
   "outputs": [],
   "source": [
    "X = df.loc[:, :\"Pressure-Washer-Frequency-Per-Week\"]"
   ]
  },
  {
   "cell_type": "code",
   "execution_count": 46,
   "metadata": {},
   "outputs": [],
   "source": [
    "Y = df[\"Household-Water-Use-Litres-Yearly\"]"
   ]
  },
  {
   "cell_type": "code",
   "execution_count": 47,
   "metadata": {},
   "outputs": [],
   "source": [
    "linear_model = LinearRegression()"
   ]
  },
  {
   "cell_type": "code",
   "execution_count": 48,
   "metadata": {},
   "outputs": [
    {
     "data": {
      "text/html": [
       "<style>#sk-container-id-1 {color: black;background-color: white;}#sk-container-id-1 pre{padding: 0;}#sk-container-id-1 div.sk-toggleable {background-color: white;}#sk-container-id-1 label.sk-toggleable__label {cursor: pointer;display: block;width: 100%;margin-bottom: 0;padding: 0.3em;box-sizing: border-box;text-align: center;}#sk-container-id-1 label.sk-toggleable__label-arrow:before {content: \"▸\";float: left;margin-right: 0.25em;color: #696969;}#sk-container-id-1 label.sk-toggleable__label-arrow:hover:before {color: black;}#sk-container-id-1 div.sk-estimator:hover label.sk-toggleable__label-arrow:before {color: black;}#sk-container-id-1 div.sk-toggleable__content {max-height: 0;max-width: 0;overflow: hidden;text-align: left;background-color: #f0f8ff;}#sk-container-id-1 div.sk-toggleable__content pre {margin: 0.2em;color: black;border-radius: 0.25em;background-color: #f0f8ff;}#sk-container-id-1 input.sk-toggleable__control:checked~div.sk-toggleable__content {max-height: 200px;max-width: 100%;overflow: auto;}#sk-container-id-1 input.sk-toggleable__control:checked~label.sk-toggleable__label-arrow:before {content: \"▾\";}#sk-container-id-1 div.sk-estimator input.sk-toggleable__control:checked~label.sk-toggleable__label {background-color: #d4ebff;}#sk-container-id-1 div.sk-label input.sk-toggleable__control:checked~label.sk-toggleable__label {background-color: #d4ebff;}#sk-container-id-1 input.sk-hidden--visually {border: 0;clip: rect(1px 1px 1px 1px);clip: rect(1px, 1px, 1px, 1px);height: 1px;margin: -1px;overflow: hidden;padding: 0;position: absolute;width: 1px;}#sk-container-id-1 div.sk-estimator {font-family: monospace;background-color: #f0f8ff;border: 1px dotted black;border-radius: 0.25em;box-sizing: border-box;margin-bottom: 0.5em;}#sk-container-id-1 div.sk-estimator:hover {background-color: #d4ebff;}#sk-container-id-1 div.sk-parallel-item::after {content: \"\";width: 100%;border-bottom: 1px solid gray;flex-grow: 1;}#sk-container-id-1 div.sk-label:hover label.sk-toggleable__label {background-color: #d4ebff;}#sk-container-id-1 div.sk-serial::before {content: \"\";position: absolute;border-left: 1px solid gray;box-sizing: border-box;top: 0;bottom: 0;left: 50%;z-index: 0;}#sk-container-id-1 div.sk-serial {display: flex;flex-direction: column;align-items: center;background-color: white;padding-right: 0.2em;padding-left: 0.2em;position: relative;}#sk-container-id-1 div.sk-item {position: relative;z-index: 1;}#sk-container-id-1 div.sk-parallel {display: flex;align-items: stretch;justify-content: center;background-color: white;position: relative;}#sk-container-id-1 div.sk-item::before, #sk-container-id-1 div.sk-parallel-item::before {content: \"\";position: absolute;border-left: 1px solid gray;box-sizing: border-box;top: 0;bottom: 0;left: 50%;z-index: -1;}#sk-container-id-1 div.sk-parallel-item {display: flex;flex-direction: column;z-index: 1;position: relative;background-color: white;}#sk-container-id-1 div.sk-parallel-item:first-child::after {align-self: flex-end;width: 50%;}#sk-container-id-1 div.sk-parallel-item:last-child::after {align-self: flex-start;width: 50%;}#sk-container-id-1 div.sk-parallel-item:only-child::after {width: 0;}#sk-container-id-1 div.sk-dashed-wrapped {border: 1px dashed gray;margin: 0 0.4em 0.5em 0.4em;box-sizing: border-box;padding-bottom: 0.4em;background-color: white;}#sk-container-id-1 div.sk-label label {font-family: monospace;font-weight: bold;display: inline-block;line-height: 1.2em;}#sk-container-id-1 div.sk-label-container {text-align: center;}#sk-container-id-1 div.sk-container {/* jupyter's `normalize.less` sets `[hidden] { display: none; }` but bootstrap.min.css set `[hidden] { display: none !important; }` so we also need the `!important` here to be able to override the default hidden behavior on the sphinx rendered scikit-learn.org. See: https://github.com/scikit-learn/scikit-learn/issues/21755 */display: inline-block !important;position: relative;}#sk-container-id-1 div.sk-text-repr-fallback {display: none;}</style><div id=\"sk-container-id-1\" class=\"sk-top-container\"><div class=\"sk-text-repr-fallback\"><pre>LinearRegression()</pre><b>In a Jupyter environment, please rerun this cell to show the HTML representation or trust the notebook. <br />On GitHub, the HTML representation is unable to render, please try loading this page with nbviewer.org.</b></div><div class=\"sk-container\" hidden><div class=\"sk-item\"><div class=\"sk-estimator sk-toggleable\"><input class=\"sk-toggleable__control sk-hidden--visually\" id=\"sk-estimator-id-1\" type=\"checkbox\" checked><label for=\"sk-estimator-id-1\" class=\"sk-toggleable__label sk-toggleable__label-arrow\">LinearRegression</label><div class=\"sk-toggleable__content\"><pre>LinearRegression()</pre></div></div></div></div></div>"
      ],
      "text/plain": [
       "LinearRegression()"
      ]
     },
     "execution_count": 48,
     "metadata": {},
     "output_type": "execute_result"
    }
   ],
   "source": [
    "linear_model.fit(X, Y)"
   ]
  },
  {
   "cell_type": "code",
   "execution_count": 49,
   "metadata": {},
   "outputs": [
    {
     "data": {
      "text/plain": [
       "0.8873792321382757"
      ]
     },
     "execution_count": 49,
     "metadata": {},
     "output_type": "execute_result"
    }
   ],
   "source": [
    "linear_model.score(X, Y)"
   ]
  },
  {
   "cell_type": "code",
   "execution_count": 51,
   "metadata": {},
   "outputs": [
    {
     "data": {
      "text/plain": [
       "73"
      ]
     },
     "execution_count": 51,
     "metadata": {},
     "output_type": "execute_result"
    }
   ],
   "source": [
    "len(X.columns)"
   ]
  },
  {
   "cell_type": "code",
   "execution_count": 67,
   "metadata": {},
   "outputs": [],
   "source": [
    "columns_ordered = []\n",
    "for col, coef in zip(X.columns, linear_model.coef_):\n",
    "    columns_ordered.append({\"column\": col, \"mean_impact\": abs(X[col].mean() * coef), \"max_impact\": abs(coef) * (X[col].max() - X[col].min())})\n",
    "\n",
    "column_df = pd.DataFrame(columns_ordered).sort_values(\"mean_impact\", ascending=False)"
   ]
  },
  {
   "cell_type": "code",
   "execution_count": 68,
   "metadata": {},
   "outputs": [
    {
     "data": {
      "text/html": [
       "<div>\n",
       "<style scoped>\n",
       "    .dataframe tbody tr th:only-of-type {\n",
       "        vertical-align: middle;\n",
       "    }\n",
       "\n",
       "    .dataframe tbody tr th {\n",
       "        vertical-align: top;\n",
       "    }\n",
       "\n",
       "    .dataframe thead th {\n",
       "        text-align: right;\n",
       "    }\n",
       "</style>\n",
       "<table border=\"1\" class=\"dataframe\">\n",
       "  <thead>\n",
       "    <tr style=\"text-align: right;\">\n",
       "      <th></th>\n",
       "      <th>column</th>\n",
       "      <th>mean_impact</th>\n",
       "      <th>max_impact</th>\n",
       "    </tr>\n",
       "  </thead>\n",
       "  <tbody>\n",
       "    <tr>\n",
       "      <th>26</th>\n",
       "      <td>Shower-Duration-Minutes</td>\n",
       "      <td>66130.193010</td>\n",
       "      <td>374297.232756</td>\n",
       "    </tr>\n",
       "    <tr>\n",
       "      <th>25</th>\n",
       "      <td>Showers-Per-Week</td>\n",
       "      <td>64045.962390</td>\n",
       "      <td>281721.974276</td>\n",
       "    </tr>\n",
       "    <tr>\n",
       "      <th>7</th>\n",
       "      <td>Number-Of-People</td>\n",
       "      <td>56514.134100</td>\n",
       "      <td>200803.526074</td>\n",
       "    </tr>\n",
       "    <tr>\n",
       "      <th>23</th>\n",
       "      <td>Shower-Type_mains-pressure</td>\n",
       "      <td>39905.482544</td>\n",
       "      <td>90649.321621</td>\n",
       "    </tr>\n",
       "    <tr>\n",
       "      <th>3</th>\n",
       "      <td>Number-Of-Bathtubs</td>\n",
       "      <td>31159.604374</td>\n",
       "      <td>151862.798572</td>\n",
       "    </tr>\n",
       "    <tr>\n",
       "      <th>5</th>\n",
       "      <td>Water-Garden</td>\n",
       "      <td>21715.571608</td>\n",
       "      <td>49791.889174</td>\n",
       "    </tr>\n",
       "    <tr>\n",
       "      <th>22</th>\n",
       "      <td>Shower-Type_electric</td>\n",
       "      <td>19191.521743</td>\n",
       "      <td>47862.755851</td>\n",
       "    </tr>\n",
       "    <tr>\n",
       "      <th>56</th>\n",
       "      <td>Washing-Machine-Per-Week</td>\n",
       "      <td>18478.652053</td>\n",
       "      <td>156085.997767</td>\n",
       "    </tr>\n",
       "    <tr>\n",
       "      <th>50</th>\n",
       "      <td>Kitchen-Tap-Flow-Rate</td>\n",
       "      <td>15095.765538</td>\n",
       "      <td>13540.431804</td>\n",
       "    </tr>\n",
       "    <tr>\n",
       "      <th>44</th>\n",
       "      <td>Bath-Frequency-Per-Week</td>\n",
       "      <td>11886.541538</td>\n",
       "      <td>79303.697914</td>\n",
       "    </tr>\n",
       "    <tr>\n",
       "      <th>39</th>\n",
       "      <td>Basin-Tap-Flow-Rate</td>\n",
       "      <td>10453.899972</td>\n",
       "      <td>9591.280628</td>\n",
       "    </tr>\n",
       "    <tr>\n",
       "      <th>11</th>\n",
       "      <td>Home-Type_semi-detached</td>\n",
       "      <td>9287.083289</td>\n",
       "      <td>21942.521526</td>\n",
       "    </tr>\n",
       "    <tr>\n",
       "      <th>43</th>\n",
       "      <td>Basin-Shave-Number-Of-People</td>\n",
       "      <td>7321.942157</td>\n",
       "      <td>113288.385222</td>\n",
       "    </tr>\n",
       "    <tr>\n",
       "      <th>31</th>\n",
       "      <td>Toilet-Type_single-lever-handle</td>\n",
       "      <td>7199.406067</td>\n",
       "      <td>23254.469229</td>\n",
       "    </tr>\n",
       "    <tr>\n",
       "      <th>2</th>\n",
       "      <td>Number-Of-Basins</td>\n",
       "      <td>6395.803658</td>\n",
       "      <td>21535.824236</td>\n",
       "    </tr>\n",
       "  </tbody>\n",
       "</table>\n",
       "</div>"
      ],
      "text/plain": [
       "                             column   mean_impact     max_impact\n",
       "26          Shower-Duration-Minutes  66130.193010  374297.232756\n",
       "25                 Showers-Per-Week  64045.962390  281721.974276\n",
       "7                  Number-Of-People  56514.134100  200803.526074\n",
       "23       Shower-Type_mains-pressure  39905.482544   90649.321621\n",
       "3                Number-Of-Bathtubs  31159.604374  151862.798572\n",
       "5                      Water-Garden  21715.571608   49791.889174\n",
       "22             Shower-Type_electric  19191.521743   47862.755851\n",
       "56         Washing-Machine-Per-Week  18478.652053  156085.997767\n",
       "50            Kitchen-Tap-Flow-Rate  15095.765538   13540.431804\n",
       "44          Bath-Frequency-Per-Week  11886.541538   79303.697914\n",
       "39              Basin-Tap-Flow-Rate  10453.899972    9591.280628\n",
       "11          Home-Type_semi-detached   9287.083289   21942.521526\n",
       "43     Basin-Shave-Number-Of-People   7321.942157  113288.385222\n",
       "31  Toilet-Type_single-lever-handle   7199.406067   23254.469229\n",
       "2                  Number-Of-Basins   6395.803658   21535.824236"
      ]
     },
     "execution_count": 68,
     "metadata": {},
     "output_type": "execute_result"
    }
   ],
   "source": [
    "column_df.head(15)"
   ]
  },
  {
   "cell_type": "code",
   "execution_count": 69,
   "metadata": {},
   "outputs": [
    {
     "data": {
      "text/html": [
       "<div>\n",
       "<style scoped>\n",
       "    .dataframe tbody tr th:only-of-type {\n",
       "        vertical-align: middle;\n",
       "    }\n",
       "\n",
       "    .dataframe tbody tr th {\n",
       "        vertical-align: top;\n",
       "    }\n",
       "\n",
       "    .dataframe thead th {\n",
       "        text-align: right;\n",
       "    }\n",
       "</style>\n",
       "<table border=\"1\" class=\"dataframe\">\n",
       "  <thead>\n",
       "    <tr style=\"text-align: right;\">\n",
       "      <th></th>\n",
       "      <th>column</th>\n",
       "      <th>mean_impact</th>\n",
       "      <th>max_impact</th>\n",
       "    </tr>\n",
       "  </thead>\n",
       "  <tbody>\n",
       "    <tr>\n",
       "      <th>26</th>\n",
       "      <td>Shower-Duration-Minutes</td>\n",
       "      <td>66130.193010</td>\n",
       "      <td>374297.232756</td>\n",
       "    </tr>\n",
       "    <tr>\n",
       "      <th>25</th>\n",
       "      <td>Showers-Per-Week</td>\n",
       "      <td>64045.962390</td>\n",
       "      <td>281721.974276</td>\n",
       "    </tr>\n",
       "    <tr>\n",
       "      <th>7</th>\n",
       "      <td>Number-Of-People</td>\n",
       "      <td>56514.134100</td>\n",
       "      <td>200803.526074</td>\n",
       "    </tr>\n",
       "    <tr>\n",
       "      <th>56</th>\n",
       "      <td>Washing-Machine-Per-Week</td>\n",
       "      <td>18478.652053</td>\n",
       "      <td>156085.997767</td>\n",
       "    </tr>\n",
       "    <tr>\n",
       "      <th>3</th>\n",
       "      <td>Number-Of-Bathtubs</td>\n",
       "      <td>31159.604374</td>\n",
       "      <td>151862.798572</td>\n",
       "    </tr>\n",
       "    <tr>\n",
       "      <th>46</th>\n",
       "      <td>Bath-Tap-Leak-Rate</td>\n",
       "      <td>1175.749057</td>\n",
       "      <td>131504.542869</td>\n",
       "    </tr>\n",
       "    <tr>\n",
       "      <th>41</th>\n",
       "      <td>Basin-Tap-Leak-Rate</td>\n",
       "      <td>1672.471300</td>\n",
       "      <td>127837.507038</td>\n",
       "    </tr>\n",
       "    <tr>\n",
       "      <th>35</th>\n",
       "      <td>Toilet-Leak-Rate</td>\n",
       "      <td>3907.219768</td>\n",
       "      <td>124358.890255</td>\n",
       "    </tr>\n",
       "    <tr>\n",
       "      <th>43</th>\n",
       "      <td>Basin-Shave-Number-Of-People</td>\n",
       "      <td>7321.942157</td>\n",
       "      <td>113288.385222</td>\n",
       "    </tr>\n",
       "    <tr>\n",
       "      <th>72</th>\n",
       "      <td>Pressure-Washer-Frequency-Per-Week</td>\n",
       "      <td>2541.215208</td>\n",
       "      <td>105279.241361</td>\n",
       "    </tr>\n",
       "    <tr>\n",
       "      <th>24</th>\n",
       "      <td>Shower-Type_multijet</td>\n",
       "      <td>748.571340</td>\n",
       "      <td>96859.260301</td>\n",
       "    </tr>\n",
       "    <tr>\n",
       "      <th>23</th>\n",
       "      <td>Shower-Type_mains-pressure</td>\n",
       "      <td>39905.482544</td>\n",
       "      <td>90649.321621</td>\n",
       "    </tr>\n",
       "    <tr>\n",
       "      <th>21</th>\n",
       "      <td>Shower-Type_pumped</td>\n",
       "      <td>5877.112448</td>\n",
       "      <td>88951.984046</td>\n",
       "    </tr>\n",
       "    <tr>\n",
       "      <th>44</th>\n",
       "      <td>Bath-Frequency-Per-Week</td>\n",
       "      <td>11886.541538</td>\n",
       "      <td>79303.697914</td>\n",
       "    </tr>\n",
       "    <tr>\n",
       "      <th>55</th>\n",
       "      <td>Dishwasher-Per-Week</td>\n",
       "      <td>1683.522678</td>\n",
       "      <td>78324.634455</td>\n",
       "    </tr>\n",
       "  </tbody>\n",
       "</table>\n",
       "</div>"
      ],
      "text/plain": [
       "                                column   mean_impact     max_impact\n",
       "26             Shower-Duration-Minutes  66130.193010  374297.232756\n",
       "25                    Showers-Per-Week  64045.962390  281721.974276\n",
       "7                     Number-Of-People  56514.134100  200803.526074\n",
       "56            Washing-Machine-Per-Week  18478.652053  156085.997767\n",
       "3                   Number-Of-Bathtubs  31159.604374  151862.798572\n",
       "46                  Bath-Tap-Leak-Rate   1175.749057  131504.542869\n",
       "41                 Basin-Tap-Leak-Rate   1672.471300  127837.507038\n",
       "35                    Toilet-Leak-Rate   3907.219768  124358.890255\n",
       "43        Basin-Shave-Number-Of-People   7321.942157  113288.385222\n",
       "72  Pressure-Washer-Frequency-Per-Week   2541.215208  105279.241361\n",
       "24                Shower-Type_multijet    748.571340   96859.260301\n",
       "23          Shower-Type_mains-pressure  39905.482544   90649.321621\n",
       "21                  Shower-Type_pumped   5877.112448   88951.984046\n",
       "44             Bath-Frequency-Per-Week  11886.541538   79303.697914\n",
       "55                 Dishwasher-Per-Week   1683.522678   78324.634455"
      ]
     },
     "execution_count": 69,
     "metadata": {},
     "output_type": "execute_result"
    }
   ],
   "source": [
    "column_df.sort_values(\"max_impact\", ascending=False).head(15)"
   ]
  },
  {
   "cell_type": "code",
   "execution_count": 52,
   "metadata": {},
   "outputs": [],
   "source": [
    "meaningful_columns = []\n",
    "min_significance = 0.01\n",
    "for col, coef in zip(X.columns, linear_model.coef_):\n",
    "    if X[col].mean() * coef > Y.mean() / len(X.columns) * min_significance:\n",
    "        meaningful_columns.append({\"column\": col, \"coefficient\": coef})\n",
    "\n",
    "col_df = pd.DataFrame(meaningful_columns)"
   ]
  },
  {
   "cell_type": "code",
   "execution_count": 53,
   "metadata": {},
   "outputs": [
    {
     "data": {
      "text/plain": [
       "47"
      ]
     },
     "execution_count": 53,
     "metadata": {},
     "output_type": "execute_result"
    }
   ],
   "source": [
    "len(col_df)"
   ]
  },
  {
   "cell_type": "code",
   "execution_count": 54,
   "metadata": {},
   "outputs": [
    {
     "data": {
      "text/html": [
       "<div>\n",
       "<style scoped>\n",
       "    .dataframe tbody tr th:only-of-type {\n",
       "        vertical-align: middle;\n",
       "    }\n",
       "\n",
       "    .dataframe tbody tr th {\n",
       "        vertical-align: top;\n",
       "    }\n",
       "\n",
       "    .dataframe thead th {\n",
       "        text-align: right;\n",
       "    }\n",
       "</style>\n",
       "<table border=\"1\" class=\"dataframe\">\n",
       "  <thead>\n",
       "    <tr style=\"text-align: right;\">\n",
       "      <th></th>\n",
       "      <th>column</th>\n",
       "      <th>coefficient</th>\n",
       "    </tr>\n",
       "  </thead>\n",
       "  <tbody>\n",
       "    <tr>\n",
       "      <th>0</th>\n",
       "      <td>Number-Of-Showers</td>\n",
       "      <td>1921.978275</td>\n",
       "    </tr>\n",
       "    <tr>\n",
       "      <th>1</th>\n",
       "      <td>Number-Of-Bathtubs</td>\n",
       "      <td>30372.559714</td>\n",
       "    </tr>\n",
       "    <tr>\n",
       "      <th>2</th>\n",
       "      <td>Number-of-Kitchen-Utility-Taps</td>\n",
       "      <td>1402.574256</td>\n",
       "    </tr>\n",
       "    <tr>\n",
       "      <th>3</th>\n",
       "      <td>Number-Of-People</td>\n",
       "      <td>22311.502897</td>\n",
       "    </tr>\n",
       "    <tr>\n",
       "      <th>4</th>\n",
       "      <td>Home-Type_cottage-bungalow</td>\n",
       "      <td>24299.038483</td>\n",
       "    </tr>\n",
       "    <tr>\n",
       "      <th>5</th>\n",
       "      <td>Home-Type_flat</td>\n",
       "      <td>20468.108201</td>\n",
       "    </tr>\n",
       "    <tr>\n",
       "      <th>6</th>\n",
       "      <td>Home-Type_detached</td>\n",
       "      <td>21996.574359</td>\n",
       "    </tr>\n",
       "    <tr>\n",
       "      <th>7</th>\n",
       "      <td>Home-Type_semi-detached</td>\n",
       "      <td>21942.521526</td>\n",
       "    </tr>\n",
       "    <tr>\n",
       "      <th>8</th>\n",
       "      <td>Home-Type_terrace</td>\n",
       "      <td>21257.039588</td>\n",
       "    </tr>\n",
       "    <tr>\n",
       "      <th>9</th>\n",
       "      <td>Water-Heated-With_coal</td>\n",
       "      <td>15160.683272</td>\n",
       "    </tr>\n",
       "    <tr>\n",
       "      <th>10</th>\n",
       "      <td>Shower-Type_gravity</td>\n",
       "      <td>58962.407926</td>\n",
       "    </tr>\n",
       "    <tr>\n",
       "      <th>11</th>\n",
       "      <td>Shower-Type_pumped</td>\n",
       "      <td>88951.984046</td>\n",
       "    </tr>\n",
       "    <tr>\n",
       "      <th>12</th>\n",
       "      <td>Shower-Type_electric</td>\n",
       "      <td>47862.755851</td>\n",
       "    </tr>\n",
       "    <tr>\n",
       "      <th>13</th>\n",
       "      <td>Shower-Type_mains-pressure</td>\n",
       "      <td>90649.321621</td>\n",
       "    </tr>\n",
       "    <tr>\n",
       "      <th>14</th>\n",
       "      <td>Shower-Type_multijet</td>\n",
       "      <td>96859.260301</td>\n",
       "    </tr>\n",
       "    <tr>\n",
       "      <th>15</th>\n",
       "      <td>Showers-Per-Week</td>\n",
       "      <td>5634.439486</td>\n",
       "    </tr>\n",
       "    <tr>\n",
       "      <th>16</th>\n",
       "      <td>Shower-Duration-Minutes</td>\n",
       "      <td>7485.944655</td>\n",
       "    </tr>\n",
       "    <tr>\n",
       "      <th>17</th>\n",
       "      <td>Shower-Leak-Rate</td>\n",
       "      <td>17523.845766</td>\n",
       "    </tr>\n",
       "    <tr>\n",
       "      <th>18</th>\n",
       "      <td>Toilet-Type_single-lever-handle</td>\n",
       "      <td>23254.469229</td>\n",
       "    </tr>\n",
       "    <tr>\n",
       "      <th>19</th>\n",
       "      <td>Toilet-Type_2-button-flush</td>\n",
       "      <td>10590.286558</td>\n",
       "    </tr>\n",
       "    <tr>\n",
       "      <th>20</th>\n",
       "      <td>Toilet-Type_1-button-flush</td>\n",
       "      <td>21978.477983</td>\n",
       "    </tr>\n",
       "    <tr>\n",
       "      <th>21</th>\n",
       "      <td>Toilet-Leak-Rate</td>\n",
       "      <td>41452.963418</td>\n",
       "    </tr>\n",
       "    <tr>\n",
       "      <th>22</th>\n",
       "      <td>Basin-Tap-Flow-Rate</td>\n",
       "      <td>4795.640314</td>\n",
       "    </tr>\n",
       "    <tr>\n",
       "      <th>23</th>\n",
       "      <td>Basin-Tap-Leak-Rate</td>\n",
       "      <td>42612.502346</td>\n",
       "    </tr>\n",
       "    <tr>\n",
       "      <th>24</th>\n",
       "      <td>Basin-Tap-Running-Brushing-Teeth</td>\n",
       "      <td>11557.835139</td>\n",
       "    </tr>\n",
       "    <tr>\n",
       "      <th>25</th>\n",
       "      <td>Basin-Shave-Number-Of-People</td>\n",
       "      <td>11328.838522</td>\n",
       "    </tr>\n",
       "    <tr>\n",
       "      <th>26</th>\n",
       "      <td>Bath-Frequency-Per-Week</td>\n",
       "      <td>3965.184896</td>\n",
       "    </tr>\n",
       "    <tr>\n",
       "      <th>27</th>\n",
       "      <td>Bath-Tap-Leak-Rate</td>\n",
       "      <td>43834.847623</td>\n",
       "    </tr>\n",
       "    <tr>\n",
       "      <th>28</th>\n",
       "      <td>Kitchen-Tap-Type_other</td>\n",
       "      <td>34539.438443</td>\n",
       "    </tr>\n",
       "    <tr>\n",
       "      <th>29</th>\n",
       "      <td>Kitchen-Tap-Flow-Rate</td>\n",
       "      <td>6770.215902</td>\n",
       "    </tr>\n",
       "    <tr>\n",
       "      <th>30</th>\n",
       "      <td>Kitchen-Tap-Leak-Rate</td>\n",
       "      <td>13029.355973</td>\n",
       "    </tr>\n",
       "    <tr>\n",
       "      <th>31</th>\n",
       "      <td>Kettle-How-Much-Water</td>\n",
       "      <td>1320.096921</td>\n",
       "    </tr>\n",
       "    <tr>\n",
       "      <th>32</th>\n",
       "      <td>Boil-Water-Per-Week</td>\n",
       "      <td>139.944362</td>\n",
       "    </tr>\n",
       "    <tr>\n",
       "      <th>33</th>\n",
       "      <td>Dishwasher-Per-Week</td>\n",
       "      <td>1566.492689</td>\n",
       "    </tr>\n",
       "    <tr>\n",
       "      <th>34</th>\n",
       "      <td>Washing-Machine-Per-Week</td>\n",
       "      <td>3121.719955</td>\n",
       "    </tr>\n",
       "    <tr>\n",
       "      <th>35</th>\n",
       "      <td>Car-Wash-Water-Source_recycled-grey-water</td>\n",
       "      <td>17601.978719</td>\n",
       "    </tr>\n",
       "    <tr>\n",
       "      <th>36</th>\n",
       "      <td>Car-Wash-Water-Source_mains-water</td>\n",
       "      <td>12401.195369</td>\n",
       "    </tr>\n",
       "    <tr>\n",
       "      <th>37</th>\n",
       "      <td>Car-Wash-Method_hosepipe-only</td>\n",
       "      <td>2034.248613</td>\n",
       "    </tr>\n",
       "    <tr>\n",
       "      <th>38</th>\n",
       "      <td>Garden-Water-Source_recycled-grey-water</td>\n",
       "      <td>40891.631792</td>\n",
       "    </tr>\n",
       "    <tr>\n",
       "      <th>39</th>\n",
       "      <td>Garden-Water-Source_rain-water</td>\n",
       "      <td>46260.435929</td>\n",
       "    </tr>\n",
       "    <tr>\n",
       "      <th>40</th>\n",
       "      <td>Garden-Water-Source_mains-water</td>\n",
       "      <td>19373.616121</td>\n",
       "    </tr>\n",
       "    <tr>\n",
       "      <th>41</th>\n",
       "      <td>Garden-Water-Method_irrigation-sprinkler-system</td>\n",
       "      <td>12196.132420</td>\n",
       "    </tr>\n",
       "    <tr>\n",
       "      <th>42</th>\n",
       "      <td>Garden-Water-Method_watering-can</td>\n",
       "      <td>26431.688777</td>\n",
       "    </tr>\n",
       "    <tr>\n",
       "      <th>43</th>\n",
       "      <td>Garden-Water-Method_hosepipe-and-hose-gun</td>\n",
       "      <td>28076.251518</td>\n",
       "    </tr>\n",
       "    <tr>\n",
       "      <th>44</th>\n",
       "      <td>Garden-Water-Method_hosepipe-only</td>\n",
       "      <td>34192.109384</td>\n",
       "    </tr>\n",
       "    <tr>\n",
       "      <th>45</th>\n",
       "      <td>Garden-Water-Frequency-Per-Week</td>\n",
       "      <td>645.991432</td>\n",
       "    </tr>\n",
       "    <tr>\n",
       "      <th>46</th>\n",
       "      <td>Pressure-Washer-Frequency-Per-Week</td>\n",
       "      <td>7519.945812</td>\n",
       "    </tr>\n",
       "  </tbody>\n",
       "</table>\n",
       "</div>"
      ],
      "text/plain": [
       "                                             column   coefficient\n",
       "0                                 Number-Of-Showers   1921.978275\n",
       "1                                Number-Of-Bathtubs  30372.559714\n",
       "2                    Number-of-Kitchen-Utility-Taps   1402.574256\n",
       "3                                  Number-Of-People  22311.502897\n",
       "4                        Home-Type_cottage-bungalow  24299.038483\n",
       "5                                    Home-Type_flat  20468.108201\n",
       "6                                Home-Type_detached  21996.574359\n",
       "7                           Home-Type_semi-detached  21942.521526\n",
       "8                                 Home-Type_terrace  21257.039588\n",
       "9                            Water-Heated-With_coal  15160.683272\n",
       "10                              Shower-Type_gravity  58962.407926\n",
       "11                               Shower-Type_pumped  88951.984046\n",
       "12                             Shower-Type_electric  47862.755851\n",
       "13                       Shower-Type_mains-pressure  90649.321621\n",
       "14                             Shower-Type_multijet  96859.260301\n",
       "15                                 Showers-Per-Week   5634.439486\n",
       "16                          Shower-Duration-Minutes   7485.944655\n",
       "17                                 Shower-Leak-Rate  17523.845766\n",
       "18                  Toilet-Type_single-lever-handle  23254.469229\n",
       "19                       Toilet-Type_2-button-flush  10590.286558\n",
       "20                       Toilet-Type_1-button-flush  21978.477983\n",
       "21                                 Toilet-Leak-Rate  41452.963418\n",
       "22                              Basin-Tap-Flow-Rate   4795.640314\n",
       "23                              Basin-Tap-Leak-Rate  42612.502346\n",
       "24                 Basin-Tap-Running-Brushing-Teeth  11557.835139\n",
       "25                     Basin-Shave-Number-Of-People  11328.838522\n",
       "26                          Bath-Frequency-Per-Week   3965.184896\n",
       "27                               Bath-Tap-Leak-Rate  43834.847623\n",
       "28                           Kitchen-Tap-Type_other  34539.438443\n",
       "29                            Kitchen-Tap-Flow-Rate   6770.215902\n",
       "30                            Kitchen-Tap-Leak-Rate  13029.355973\n",
       "31                            Kettle-How-Much-Water   1320.096921\n",
       "32                              Boil-Water-Per-Week    139.944362\n",
       "33                              Dishwasher-Per-Week   1566.492689\n",
       "34                         Washing-Machine-Per-Week   3121.719955\n",
       "35        Car-Wash-Water-Source_recycled-grey-water  17601.978719\n",
       "36                Car-Wash-Water-Source_mains-water  12401.195369\n",
       "37                    Car-Wash-Method_hosepipe-only   2034.248613\n",
       "38          Garden-Water-Source_recycled-grey-water  40891.631792\n",
       "39                   Garden-Water-Source_rain-water  46260.435929\n",
       "40                  Garden-Water-Source_mains-water  19373.616121\n",
       "41  Garden-Water-Method_irrigation-sprinkler-system  12196.132420\n",
       "42                 Garden-Water-Method_watering-can  26431.688777\n",
       "43        Garden-Water-Method_hosepipe-and-hose-gun  28076.251518\n",
       "44                Garden-Water-Method_hosepipe-only  34192.109384\n",
       "45                  Garden-Water-Frequency-Per-Week    645.991432\n",
       "46               Pressure-Washer-Frequency-Per-Week   7519.945812"
      ]
     },
     "execution_count": 54,
     "metadata": {},
     "output_type": "execute_result"
    }
   ],
   "source": [
    "col_df"
   ]
  },
  {
   "cell_type": "code",
   "execution_count": 60,
   "metadata": {},
   "outputs": [],
   "source": [
    "# list(col_df[\"column\"])"
   ]
  },
  {
   "cell_type": "code",
   "execution_count": 59,
   "metadata": {},
   "outputs": [],
   "source": [
    "X2 = X.loc[:, list(col_df[\"column\"])]"
   ]
  },
  {
   "cell_type": "code",
   "execution_count": 61,
   "metadata": {},
   "outputs": [
    {
     "data": {
      "text/plain": [
       "47"
      ]
     },
     "execution_count": 61,
     "metadata": {},
     "output_type": "execute_result"
    }
   ],
   "source": [
    "len(X2.columns)"
   ]
  },
  {
   "cell_type": "code",
   "execution_count": 62,
   "metadata": {},
   "outputs": [
    {
     "data": {
      "text/plain": [
       "0.881855964248427"
      ]
     },
     "execution_count": 62,
     "metadata": {},
     "output_type": "execute_result"
    }
   ],
   "source": [
    "linear_model2 = LinearRegression()\n",
    "linear_model2.fit(X2, Y)\n",
    "linear_model2.score(X2, Y)"
   ]
  },
  {
   "cell_type": "code",
   "execution_count": null,
   "metadata": {},
   "outputs": [],
   "source": []
  },
  {
   "cell_type": "code",
   "execution_count": null,
   "metadata": {},
   "outputs": [],
   "source": []
  },
  {
   "cell_type": "code",
   "execution_count": null,
   "metadata": {},
   "outputs": [],
   "source": []
  }
 ],
 "metadata": {
  "kernelspec": {
   "display_name": ".venv",
   "language": "python",
   "name": "python3"
  },
  "language_info": {
   "codemirror_mode": {
    "name": "ipython",
    "version": 3
   },
   "file_extension": ".py",
   "mimetype": "text/x-python",
   "name": "python",
   "nbconvert_exporter": "python",
   "pygments_lexer": "ipython3",
   "version": "3.11.1"
  },
  "orig_nbformat": 4,
  "vscode": {
   "interpreter": {
    "hash": "33de5b74230be543b5e61d65375eab66650e28ada5a23bb6442eddedbb09a4bc"
   }
  }
 },
 "nbformat": 4,
 "nbformat_minor": 2
}
