{
 "cells": [
  {
   "attachments": {},
   "cell_type": "markdown",
   "metadata": {},
   "source": [
    "# Yorkshire Water -vedenkulutuksen k-means-mallinnus"
   ]
  },
  {
   "cell_type": "code",
   "execution_count": 5,
   "metadata": {},
   "outputs": [],
   "source": [
    "from pathlib import Path\n",
    "\n",
    "import pandas as pd\n",
    "import numpy as np\n",
    "import matplotlib.pyplot as plt\n",
    "\n",
    "from sklearn.cluster import KMeans"
   ]
  },
  {
   "attachments": {},
   "cell_type": "markdown",
   "metadata": {},
   "source": [
    "Ladataan alkuperäinen data käsittelyyn."
   ]
  },
  {
   "cell_type": "code",
   "execution_count": 11,
   "metadata": {},
   "outputs": [
    {
     "name": "stdout",
     "output_type": "stream",
     "text": [
      "Number of columns: 1128\n",
      "Number of rows: 2596\n"
     ]
    }
   ],
   "source": [
    "db_filepath = Path.cwd().parent / \"data\" / \"Daily m3 1315.csv\"\n",
    "# df_filepath.exists()\n",
    "\n",
    "# d_df = pd.read_csv(\"Data/Daily_m3_1315.csv\")\n",
    "d_df = pd.read_csv(db_filepath)\n",
    "\n",
    "# 24/03/2012 is Saturday\n",
    "#d_df.index\n",
    "print(f\"Number of columns: {len(d_df.columns)}\")\n",
    "print(f\"Number of rows: {len(d_df)}\")"
   ]
  },
  {
   "cell_type": "markdown",
   "metadata": {},
   "source": [
    "Etsitään datasta kunnollinen osajoukko, jossa ei ole puuttuvia arvoja."
   ]
  },
  {
   "cell_type": "code",
   "execution_count": 12,
   "metadata": {},
   "outputs": [],
   "source": [
    "def etsi_kunnon_df(num_of_properties):\n",
    "    alku = 3\n",
    "    loppu = len(d_df.columns) - 1\n",
    "\n",
    "    kunnon_df = None\n",
    "    while alku < loppu:\n",
    "        for a in range(alku, (loppu- alku) // 2, 2):\n",
    "            sarakkeet = [0, 1, 2] + list(range(a, loppu - a + 1))\n",
    "            testi_df = d_df.iloc[:, sarakkeet].dropna()\n",
    "            if len(testi_df) >= num_of_properties:\n",
    "                return testi_df\n",
    "        alku += 5\n",
    "        loppu -= 5\n",
    "    return kunnon_df\n",
    "\n",
    "# etsi_kunnon_df(267)\n",
    "kunnon_df = etsi_kunnon_df(270)"
   ]
  },
  {
   "attachments": {},
   "cell_type": "markdown",
   "metadata": {},
   "source": [
    "Tarkastetaan negatiiviset arvot, ja asetetaan ne nollaksi."
   ]
  },
  {
   "cell_type": "code",
   "execution_count": 13,
   "metadata": {},
   "outputs": [
    {
     "name": "stdout",
     "output_type": "stream",
     "text": [
      "[-0.001]\n",
      "(array([354], dtype=int64), array([470], dtype=int64))\n",
      "1526\n",
      "-0.001\n"
     ]
    }
   ],
   "source": [
    "# negatiiviset arvot kurkataan\n",
    "arvot = kunnon_df.iloc[:, 3:].to_numpy()\n",
    "\n",
    "print(arvot[arvot < 0])\n",
    "print(np.where(arvot < 0))\n",
    "print(kunnon_df.index[354])\n",
    "print(kunnon_df.iloc[354, 473])\n",
    "# asetetaan nollaksi\n",
    "kunnon_df.iloc[354, 473] = 0"
   ]
  },
  {
   "attachments": {},
   "cell_type": "markdown",
   "metadata": {},
   "source": [
    "Klusteroidaan data k-means-menetelmän avulla."
   ]
  },
  {
   "cell_type": "code",
   "execution_count": 14,
   "metadata": {},
   "outputs": [],
   "source": [
    "kulutusdata = kunnon_df.iloc[:, 3:]\n",
    "\n",
    "def klusteroi(klusterien_lkm, rng=1337, iter_lkm=420):\n",
    "    km = KMeans(n_clusters=klusterien_lkm, n_init=\"auto\", max_iter=iter_lkm, random_state=rng)\n",
    "    km.fit(kulutusdata)\n",
    "\n",
    "    luokittelu = pd.DataFrame(km.predict(kulutusdata), columns=[\"luokka\"])\n",
    "    luokittelu.index = kulutusdata.index\n",
    "    luokittelu[\"keskikulutus\"] = kulutusdata.mean(axis=1)\n",
    "\n",
    "    lkm = []\n",
    "    maksimikulutus = []\n",
    "    minimikulutus = []\n",
    "    for l in range(klusterien_lkm):\n",
    "        kulutus = luokittelu[luokittelu[\"luokka\"] == l][\"keskikulutus\"]\n",
    "        lkm.append(kulutus.count())\n",
    "        maksimikulutus.append(kulutus.max())\n",
    "        minimikulutus.append(kulutus.min())\n",
    "\n",
    "    esitys_df = pd.DataFrame(range(klusterien_lkm), columns=[\"luokka\"])\n",
    "    esitys_df[\"count\"] = lkm\n",
    "    esitys_df[\"minimikeskikulutus\"] = minimikulutus\n",
    "    esitys_df[\"maksimikeskikulutus\"] = maksimikulutus\n",
    "\n",
    "    return esitys_df"
   ]
  },
  {
   "cell_type": "code",
   "execution_count": 15,
   "metadata": {},
   "outputs": [
    {
     "data": {
      "text/html": [
       "<div>\n",
       "<style scoped>\n",
       "    .dataframe tbody tr th:only-of-type {\n",
       "        vertical-align: middle;\n",
       "    }\n",
       "\n",
       "    .dataframe tbody tr th {\n",
       "        vertical-align: top;\n",
       "    }\n",
       "\n",
       "    .dataframe thead th {\n",
       "        text-align: right;\n",
       "    }\n",
       "</style>\n",
       "<table border=\"1\" class=\"dataframe\">\n",
       "  <thead>\n",
       "    <tr style=\"text-align: right;\">\n",
       "      <th></th>\n",
       "      <th>luokka</th>\n",
       "      <th>count</th>\n",
       "      <th>minimikeskikulutus</th>\n",
       "      <th>maksimikeskikulutus</th>\n",
       "    </tr>\n",
       "  </thead>\n",
       "  <tbody>\n",
       "    <tr>\n",
       "      <th>4</th>\n",
       "      <td>4</td>\n",
       "      <td>363</td>\n",
       "      <td>0.000000</td>\n",
       "      <td>0.189097</td>\n",
       "    </tr>\n",
       "    <tr>\n",
       "      <th>0</th>\n",
       "      <td>0</td>\n",
       "      <td>319</td>\n",
       "      <td>0.189561</td>\n",
       "      <td>0.323966</td>\n",
       "    </tr>\n",
       "    <tr>\n",
       "      <th>7</th>\n",
       "      <td>7</td>\n",
       "      <td>224</td>\n",
       "      <td>0.321420</td>\n",
       "      <td>0.491225</td>\n",
       "    </tr>\n",
       "    <tr>\n",
       "      <th>5</th>\n",
       "      <td>5</td>\n",
       "      <td>83</td>\n",
       "      <td>0.460851</td>\n",
       "      <td>0.742849</td>\n",
       "    </tr>\n",
       "    <tr>\n",
       "      <th>2</th>\n",
       "      <td>2</td>\n",
       "      <td>23</td>\n",
       "      <td>0.712334</td>\n",
       "      <td>1.362496</td>\n",
       "    </tr>\n",
       "    <tr>\n",
       "      <th>3</th>\n",
       "      <td>3</td>\n",
       "      <td>1</td>\n",
       "      <td>1.439133</td>\n",
       "      <td>1.439133</td>\n",
       "    </tr>\n",
       "    <tr>\n",
       "      <th>6</th>\n",
       "      <td>6</td>\n",
       "      <td>2</td>\n",
       "      <td>1.957559</td>\n",
       "      <td>2.251086</td>\n",
       "    </tr>\n",
       "    <tr>\n",
       "      <th>1</th>\n",
       "      <td>1</td>\n",
       "      <td>1</td>\n",
       "      <td>11.144535</td>\n",
       "      <td>11.144535</td>\n",
       "    </tr>\n",
       "  </tbody>\n",
       "</table>\n",
       "</div>"
      ],
      "text/plain": [
       "   luokka  count  minimikeskikulutus  maksimikeskikulutus\n",
       "4       4    363            0.000000             0.189097\n",
       "0       0    319            0.189561             0.323966\n",
       "7       7    224            0.321420             0.491225\n",
       "5       5     83            0.460851             0.742849\n",
       "2       2     23            0.712334             1.362496\n",
       "3       3      1            1.439133             1.439133\n",
       "6       6      2            1.957559             2.251086\n",
       "1       1      1           11.144535            11.144535"
      ]
     },
     "execution_count": 15,
     "metadata": {},
     "output_type": "execute_result"
    }
   ],
   "source": [
    "luokat = klusteroi(8)\n",
    "luokat.sort_values(by=\"minimikeskikulutus\")"
   ]
  }
 ],
 "metadata": {
  "kernelspec": {
   "display_name": ".venv",
   "language": "python",
   "name": "python3"
  },
  "language_info": {
   "codemirror_mode": {
    "name": "ipython",
    "version": 3
   },
   "file_extension": ".py",
   "mimetype": "text/x-python",
   "name": "python",
   "nbconvert_exporter": "python",
   "pygments_lexer": "ipython3",
   "version": "3.11.1"
  },
  "orig_nbformat": 4,
  "vscode": {
   "interpreter": {
    "hash": "33de5b74230be543b5e61d65375eab66650e28ada5a23bb6442eddedbb09a4bc"
   }
  }
 },
 "nbformat": 4,
 "nbformat_minor": 2
}
